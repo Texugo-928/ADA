{
  "nbformat": 4,
  "nbformat_minor": 0,
  "metadata": {
    "colab": {
      "provenance": [],
      "collapsed_sections": [
        "Hmqyt6gKZRg-"
      ],
      "authorship_tag": "ABX9TyPiFbKx2Vj1MiOqYHBYn8T9",
      "include_colab_link": true
    },
    "kernelspec": {
      "name": "python3",
      "display_name": "Python 3"
    },
    "language_info": {
      "name": "python"
    }
  },
  "cells": [
    {
      "cell_type": "markdown",
      "metadata": {
        "id": "view-in-github",
        "colab_type": "text"
      },
      "source": [
        "<a href=\"https://colab.research.google.com/github/Texugo-928/ADA/blob/main/TPI_(PY)_Projeto_1.ipynb\" target=\"_parent\"><img src=\"https://colab.research.google.com/assets/colab-badge.svg\" alt=\"Open In Colab\"/></a>"
      ]
    },
    {
      "cell_type": "markdown",
      "source": [
        "# Mini-Projeto: Simulação de Jogo de Dados | Entrega (11/08 - Sexta-feira)\n",
        "\n",
        "## Objetivo\n",
        "\n",
        "Você tem a tarefa de criar uma simulação para um jogo de dados. Essa simulação tem como objetivo reunir estatísticas para analisar a justiça do jogo, possíveis resultados e fazer previsões sobre jogos futuros.\n",
        "\n",
        "## Desafios do Projeto\n",
        "\n",
        "1. **Simulação de Dados**: Crie uma função que simule o lançamento de dois dados de seis lados (valores de 1 a 6). Esta função deve retornar a soma dos resultados dos dados.\n",
        "\n",
        "2. **Múltiplas Simulações**: Use a função do passo 1 para simular um grande número de jogos de dados (digamos, 1000 jogos). Armazene o resultado de cada jogo em um array NumPy.\n",
        "\n",
        "3. **Análise de Dados**: Agora, vamos analisar os resultados desses jogos. Calcule e imprima o seguinte:\n",
        "- A média dos resultados.\n",
        "- O lançamento máximo e mínimo.\n",
        "- O número de vezes que cada possível lançamento (2, 3, 4, 5, 6, 7, 8, 9, 10, 11 e 12) ocorreu.\n",
        "- Teste de Hipótese: Agora vamos fazer um pouco de teste de hipóteses:\n",
        "  - Supondo um jogo justo (ou seja, todos os lançamentos são igualmente prováveis), o resultado da sua simulação coincide com essa suposição? Por que sim ou por que não?\n",
        "  - O que isso significa para um jogador do jogo de dados?\n",
        "\n",
        "## Entregáveis\n",
        "\n",
        "Link de um repositório no seu GitHub, contendo:\n",
        "- Um script Python (arquivo `.py` ou `.ipynb`) com a sua solução para os três desafios apresentados.\n"
      ],
      "metadata": {
        "id": "s38OpI-eZ76-"
      }
    },
    {
      "cell_type": "markdown",
      "source": [
        "#Funções"
      ],
      "metadata": {
        "id": "Hmqyt6gKZRg-"
      }
    },
    {
      "cell_type": "code",
      "source": [
        "import numpy as np\n",
        "\n",
        "def lancamento_dado(num_vezes):\n",
        "  a = np.random.randint(1, 7, num_vezes)\n",
        "\n",
        "  soma_valores_dado = 0\n",
        "  #index = 1\n",
        "\n",
        "  for i in a:\n",
        "    #print(f'O valor do lançamento de número {index} é: {i}')\n",
        "    soma_valores_dado += i\n",
        "    #index += 1\n",
        "\n",
        "  return soma_valores_dado\n",
        "\n",
        "def loop_numpy_array(num_vezes):\n",
        "\n",
        "  lista = list(range(num_vezes))\n",
        "  lista_aux = [lancamento_dado(2) for temp in lista]\n",
        "\n",
        "  numpy_array = np.array(lista_aux)\n",
        "\n",
        "  return numpy_array"
      ],
      "metadata": {
        "id": "yVRrMVa-iMu6"
      },
      "execution_count": 20,
      "outputs": []
    },
    {
      "cell_type": "markdown",
      "source": [
        "#Análise de dados"
      ],
      "metadata": {
        "id": "-dgW3l3RZX37"
      }
    },
    {
      "cell_type": "code",
      "source": [
        "size = 1000\n",
        "\n",
        "np_array = loop_numpy_array(size)\n",
        "#print(numpy_array)\n",
        "\n",
        "media = np_array.mean()\n",
        "#print(media)\n",
        "\n",
        "maximo = np_array.max()\n",
        "#print(maximo)\n",
        "\n",
        "minimo = np_array.min()\n",
        "#print(minimo)\n",
        "\n",
        "#O número de vezes que cada possível lançamento (2, 3, 4, 5, 6, 7, 8, 9, 10, 11 e 12) ocorreu.\n",
        "lista = [2, 3, 4, 5, 6, 7, 8, 9, 10, 11, 12]\n",
        "\n",
        "lista_aux = list()\n",
        "\n",
        "for j in range(0, len(lista)):\n",
        "  a = 0\n",
        "  for i in np_array:\n",
        "    if i == lista[j]:\n",
        "      a += 1\n",
        "  lista_aux.append(a)\n",
        "\n",
        "for i in lista_aux:\n",
        "  print(f'A quantidade de {lista[lista_aux.index(i)]} é {i}')"
      ],
      "metadata": {
        "colab": {
          "base_uri": "https://localhost:8080/"
        },
        "id": "v2yfMqatqfx3",
        "outputId": "f1886162-0d7c-47ca-ec78-94808f86214f"
      },
      "execution_count": 21,
      "outputs": [
        {
          "output_type": "stream",
          "name": "stdout",
          "text": [
            "A quantidade de 2 é 30\n",
            "A quantidade de 3 é 46\n",
            "A quantidade de 4 é 89\n",
            "A quantidade de 5 é 124\n",
            "A quantidade de 6 é 126\n",
            "A quantidade de 7 é 182\n",
            "A quantidade de 8 é 133\n",
            "A quantidade de 9 é 115\n",
            "A quantidade de 10 é 87\n",
            "A quantidade de 11 é 45\n",
            "A quantidade de 12 é 23\n"
          ]
        }
      ]
    },
    {
      "cell_type": "code",
      "source": [
        "#O número de vezes que cada possível lançamento (2, 3, 4, 5, 6, 7, 8, 9, 10, 11 e 12) ocorreu.\n",
        "lista_2 = [round((1/36) * 100, 2), round((2/36) * 100, 2), round((3/36) * 100, 2),\n",
        "           round((4/36) * 100, 2), round((5/36) * 100, 2), round((6/36) * 100, 2),\n",
        "           round((5/36) * 100, 2), round((4/36) * 100, 2), round((3/36) * 100, 2),\n",
        "           round((2/36) * 100, 2), round((1/36) * 100, 2)]\n",
        "\n",
        "lista_aux_2 = list()\n",
        "\n",
        "for j in range(0, len(lista)):\n",
        "  a = 0\n",
        "  for i in np_array:\n",
        "    if i == lista[j]:\n",
        "      a += 1\n",
        "  lista_aux_2.append(a)\n",
        "\n",
        "print(f'Numero Soma  ---  Porcentagem Teste  ---  Porcentagem Hipotética  ---  DIFERENÇA')\n",
        "\n",
        "for i in lista_aux_2:\n",
        "  indice = lista_aux_2.index(i)\n",
        "  a = round((i / size) * 100, 2)\n",
        "  b =lista_2[indice]\n",
        "  print(f'{lista[indice]}            ---          {a}%      ---          {b}%           ---  {round(a-b, 2)}%')"
      ],
      "metadata": {
        "colab": {
          "base_uri": "https://localhost:8080/"
        },
        "id": "EYau-wdAPmjU",
        "outputId": "1bc3627c-429f-46f9-ab8c-60f8dbff3afa"
      },
      "execution_count": 22,
      "outputs": [
        {
          "output_type": "stream",
          "name": "stdout",
          "text": [
            "Numero Soma  ---  Porcentagem Teste  ---  Porcentagem Hipotética  ---  DIFERENÇA\n",
            "2            ---          3.0%      ---          2.78%           ---  0.22%\n",
            "3            ---          4.6%      ---          5.56%           ---  -0.96%\n",
            "4            ---          8.9%      ---          8.33%           ---  0.57%\n",
            "5            ---          12.4%      ---          11.11%           ---  1.29%\n",
            "6            ---          12.6%      ---          13.89%           ---  -1.29%\n",
            "7            ---          18.2%      ---          16.67%           ---  1.53%\n",
            "8            ---          13.3%      ---          13.89%           ---  -0.59%\n",
            "9            ---          11.5%      ---          11.11%           ---  0.39%\n",
            "10            ---          8.7%      ---          8.33%           ---  0.37%\n",
            "11            ---          4.5%      ---          5.56%           ---  -1.06%\n",
            "12            ---          2.3%      ---          2.78%           ---  -0.48%\n"
          ]
        }
      ]
    },
    {
      "cell_type": "markdown",
      "source": [
        "Não, pois esse caso hipotético só seria atingido caso fosse possivel realizar um número infinitamente grande de lançamentos.\n",
        "E embora as porcentagens sejam distintas, o seu valor não varia tanto assim."
      ],
      "metadata": {
        "id": "sD6lvgDgX4b5"
      }
    }
  ]
}